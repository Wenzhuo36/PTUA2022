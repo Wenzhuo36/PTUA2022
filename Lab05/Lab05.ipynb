{
 "cells": [
  {
   "cell_type": "code",
   "execution_count": 1,
   "id": "be9a9d13",
   "metadata": {},
   "outputs": [],
   "source": [
    "import pandas as pd, numpy as np, matplotlib.pyplot as plt"
   ]
  },
  {
   "cell_type": "markdown",
   "id": "13bdaf1d",
   "metadata": {},
   "source": [
    "### Part 1 Basics of Selecting and Slicing Data"
   ]
  },
  {
   "cell_type": "code",
   "execution_count": 2,
   "id": "6711441d",
   "metadata": {},
   "outputs": [
    {
     "data": {
      "text/html": [
       "<div>\n",
       "<style scoped>\n",
       "    .dataframe tbody tr th:only-of-type {\n",
       "        vertical-align: middle;\n",
       "    }\n",
       "\n",
       "    .dataframe tbody tr th {\n",
       "        vertical-align: top;\n",
       "    }\n",
       "\n",
       "    .dataframe thead th {\n",
       "        text-align: right;\n",
       "    }\n",
       "</style>\n",
       "<table border=\"1\" class=\"dataframe\">\n",
       "  <thead>\n",
       "    <tr style=\"text-align: right;\">\n",
       "      <th></th>\n",
       "      <th>lat</th>\n",
       "      <th>lon</th>\n",
       "      <th>date</th>\n",
       "      <th>city</th>\n",
       "      <th>country</th>\n",
       "    </tr>\n",
       "  </thead>\n",
       "  <tbody>\n",
       "    <tr>\n",
       "      <th>0</th>\n",
       "      <td>51.481292</td>\n",
       "      <td>-0.451011</td>\n",
       "      <td>05/14/2014 09:07</td>\n",
       "      <td>West Drayton</td>\n",
       "      <td>United Kingdom</td>\n",
       "    </tr>\n",
       "    <tr>\n",
       "      <th>1</th>\n",
       "      <td>51.474005</td>\n",
       "      <td>-0.450999</td>\n",
       "      <td>05/14/2014 09:22</td>\n",
       "      <td>Hounslow</td>\n",
       "      <td>United Kingdom</td>\n",
       "    </tr>\n",
       "    <tr>\n",
       "      <th>2</th>\n",
       "      <td>51.478199</td>\n",
       "      <td>-0.446081</td>\n",
       "      <td>05/14/2014 10:51</td>\n",
       "      <td>Hounslow</td>\n",
       "      <td>United Kingdom</td>\n",
       "    </tr>\n",
       "    <tr>\n",
       "      <th>3</th>\n",
       "      <td>51.478199</td>\n",
       "      <td>-0.446081</td>\n",
       "      <td>05/14/2014 11:24</td>\n",
       "      <td>Hounslow</td>\n",
       "      <td>United Kingdom</td>\n",
       "    </tr>\n",
       "    <tr>\n",
       "      <th>4</th>\n",
       "      <td>51.474146</td>\n",
       "      <td>-0.451562</td>\n",
       "      <td>05/14/2014 11:38</td>\n",
       "      <td>Hounslow</td>\n",
       "      <td>United Kingdom</td>\n",
       "    </tr>\n",
       "  </tbody>\n",
       "</table>\n",
       "</div>"
      ],
      "text/plain": [
       "         lat       lon              date          city         country\n",
       "0  51.481292 -0.451011  05/14/2014 09:07  West Drayton  United Kingdom\n",
       "1  51.474005 -0.450999  05/14/2014 09:22      Hounslow  United Kingdom\n",
       "2  51.478199 -0.446081  05/14/2014 10:51      Hounslow  United Kingdom\n",
       "3  51.478199 -0.446081  05/14/2014 11:24      Hounslow  United Kingdom\n",
       "4  51.474146 -0.451562  05/14/2014 11:38      Hounslow  United Kingdom"
      ]
     },
     "execution_count": 2,
     "metadata": {},
     "output_type": "execute_result"
    }
   ],
   "source": [
    "df = pd.read_csv('data/summer-travel-gps-full.csv')\n",
    "df.head()"
   ]
  },
  {
   "cell_type": "markdown",
   "id": "2ba91ecd",
   "metadata": {},
   "source": [
    "#### Q1: how to get 2 columns from the dataframe (city and country)?"
   ]
  },
  {
   "cell_type": "code",
   "execution_count": 3,
   "id": "4a351da0",
   "metadata": {},
   "outputs": [
    {
     "data": {
      "text/html": [
       "<div>\n",
       "<style scoped>\n",
       "    .dataframe tbody tr th:only-of-type {\n",
       "        vertical-align: middle;\n",
       "    }\n",
       "\n",
       "    .dataframe tbody tr th {\n",
       "        vertical-align: top;\n",
       "    }\n",
       "\n",
       "    .dataframe thead th {\n",
       "        text-align: right;\n",
       "    }\n",
       "</style>\n",
       "<table border=\"1\" class=\"dataframe\">\n",
       "  <thead>\n",
       "    <tr style=\"text-align: right;\">\n",
       "      <th></th>\n",
       "      <th>city</th>\n",
       "      <th>country</th>\n",
       "    </tr>\n",
       "  </thead>\n",
       "  <tbody>\n",
       "    <tr>\n",
       "      <th>0</th>\n",
       "      <td>West Drayton</td>\n",
       "      <td>United Kingdom</td>\n",
       "    </tr>\n",
       "    <tr>\n",
       "      <th>1</th>\n",
       "      <td>Hounslow</td>\n",
       "      <td>United Kingdom</td>\n",
       "    </tr>\n",
       "    <tr>\n",
       "      <th>2</th>\n",
       "      <td>Hounslow</td>\n",
       "      <td>United Kingdom</td>\n",
       "    </tr>\n",
       "    <tr>\n",
       "      <th>3</th>\n",
       "      <td>Hounslow</td>\n",
       "      <td>United Kingdom</td>\n",
       "    </tr>\n",
       "    <tr>\n",
       "      <th>4</th>\n",
       "      <td>Hounslow</td>\n",
       "      <td>United Kingdom</td>\n",
       "    </tr>\n",
       "  </tbody>\n",
       "</table>\n",
       "</div>"
      ],
      "text/plain": [
       "           city         country\n",
       "0  West Drayton  United Kingdom\n",
       "1      Hounslow  United Kingdom\n",
       "2      Hounslow  United Kingdom\n",
       "3      Hounslow  United Kingdom\n",
       "4      Hounslow  United Kingdom"
      ]
     },
     "execution_count": 3,
     "metadata": {},
     "output_type": "execute_result"
    }
   ],
   "source": [
    "df_city_country = df[[\"city\",\"country\"]]\n",
    "df_city_country.head()"
   ]
  },
  {
   "cell_type": "markdown",
   "id": "b2b6d1d8",
   "metadata": {},
   "source": [
    "#### Q2: how to get the first 5 rows of the \"city\" column?"
   ]
  },
  {
   "cell_type": "code",
   "execution_count": 4,
   "id": "2028e126",
   "metadata": {},
   "outputs": [
    {
     "data": {
      "text/html": [
       "<div>\n",
       "<style scoped>\n",
       "    .dataframe tbody tr th:only-of-type {\n",
       "        vertical-align: middle;\n",
       "    }\n",
       "\n",
       "    .dataframe tbody tr th {\n",
       "        vertical-align: top;\n",
       "    }\n",
       "\n",
       "    .dataframe thead th {\n",
       "        text-align: right;\n",
       "    }\n",
       "</style>\n",
       "<table border=\"1\" class=\"dataframe\">\n",
       "  <thead>\n",
       "    <tr style=\"text-align: right;\">\n",
       "      <th></th>\n",
       "      <th>city</th>\n",
       "      <th>country</th>\n",
       "    </tr>\n",
       "  </thead>\n",
       "  <tbody>\n",
       "    <tr>\n",
       "      <th>0</th>\n",
       "      <td>West Drayton</td>\n",
       "      <td>United Kingdom</td>\n",
       "    </tr>\n",
       "    <tr>\n",
       "      <th>1</th>\n",
       "      <td>Hounslow</td>\n",
       "      <td>United Kingdom</td>\n",
       "    </tr>\n",
       "    <tr>\n",
       "      <th>2</th>\n",
       "      <td>Hounslow</td>\n",
       "      <td>United Kingdom</td>\n",
       "    </tr>\n",
       "    <tr>\n",
       "      <th>3</th>\n",
       "      <td>Hounslow</td>\n",
       "      <td>United Kingdom</td>\n",
       "    </tr>\n",
       "    <tr>\n",
       "      <th>4</th>\n",
       "      <td>Hounslow</td>\n",
       "      <td>United Kingdom</td>\n",
       "    </tr>\n",
       "  </tbody>\n",
       "</table>\n",
       "</div>"
      ],
      "text/plain": [
       "           city         country\n",
       "0  West Drayton  United Kingdom\n",
       "1      Hounslow  United Kingdom\n",
       "2      Hounslow  United Kingdom\n",
       "3      Hounslow  United Kingdom\n",
       "4      Hounslow  United Kingdom"
      ]
     },
     "execution_count": 4,
     "metadata": {},
     "output_type": "execute_result"
    }
   ],
   "source": [
    "df_city_country.loc[0:4]"
   ]
  },
  {
   "cell_type": "markdown",
   "id": "97c21b9c",
   "metadata": {},
   "source": [
    "#### Q3: how to use .loc to select the third row of the dataframe?"
   ]
  },
  {
   "cell_type": "code",
   "execution_count": 5,
   "id": "63c4101e",
   "metadata": {},
   "outputs": [
    {
     "data": {
      "text/plain": [
       "lat               51.478199\n",
       "lon               -0.446081\n",
       "date       05/14/2014 10:51\n",
       "city               Hounslow\n",
       "country      United Kingdom\n",
       "Name: 2, dtype: object"
      ]
     },
     "execution_count": 5,
     "metadata": {},
     "output_type": "execute_result"
    }
   ],
   "source": [
    "df.loc[2]"
   ]
  },
  {
   "cell_type": "markdown",
   "id": "3e62308b",
   "metadata": {},
   "source": [
    "#### Q4: how to use .loc to select the first row in \"country\" column?"
   ]
  },
  {
   "cell_type": "code",
   "execution_count": 6,
   "id": "4f6e8e9e",
   "metadata": {},
   "outputs": [
    {
     "data": {
      "text/plain": [
       "'United Kingdom'"
      ]
     },
     "execution_count": 6,
     "metadata": {},
     "output_type": "execute_result"
    }
   ],
   "source": [
    "df.loc[0,(\"country\")]"
   ]
  },
  {
   "cell_type": "markdown",
   "id": "19c02519",
   "metadata": {},
   "source": [
    "#### Q5: how to select the first 4 rows of ['city', 'date'] columns?"
   ]
  },
  {
   "cell_type": "code",
   "execution_count": 7,
   "id": "7fbe28b1",
   "metadata": {},
   "outputs": [
    {
     "data": {
      "text/html": [
       "<div>\n",
       "<style scoped>\n",
       "    .dataframe tbody tr th:only-of-type {\n",
       "        vertical-align: middle;\n",
       "    }\n",
       "\n",
       "    .dataframe tbody tr th {\n",
       "        vertical-align: top;\n",
       "    }\n",
       "\n",
       "    .dataframe thead th {\n",
       "        text-align: right;\n",
       "    }\n",
       "</style>\n",
       "<table border=\"1\" class=\"dataframe\">\n",
       "  <thead>\n",
       "    <tr style=\"text-align: right;\">\n",
       "      <th></th>\n",
       "      <th>city</th>\n",
       "      <th>date</th>\n",
       "    </tr>\n",
       "  </thead>\n",
       "  <tbody>\n",
       "    <tr>\n",
       "      <th>0</th>\n",
       "      <td>West Drayton</td>\n",
       "      <td>05/14/2014 09:07</td>\n",
       "    </tr>\n",
       "    <tr>\n",
       "      <th>1</th>\n",
       "      <td>Hounslow</td>\n",
       "      <td>05/14/2014 09:22</td>\n",
       "    </tr>\n",
       "    <tr>\n",
       "      <th>2</th>\n",
       "      <td>Hounslow</td>\n",
       "      <td>05/14/2014 10:51</td>\n",
       "    </tr>\n",
       "    <tr>\n",
       "      <th>3</th>\n",
       "      <td>Hounslow</td>\n",
       "      <td>05/14/2014 11:24</td>\n",
       "    </tr>\n",
       "  </tbody>\n",
       "</table>\n",
       "</div>"
      ],
      "text/plain": [
       "           city              date\n",
       "0  West Drayton  05/14/2014 09:07\n",
       "1      Hounslow  05/14/2014 09:22\n",
       "2      Hounslow  05/14/2014 10:51\n",
       "3      Hounslow  05/14/2014 11:24"
      ]
     },
     "execution_count": 7,
     "metadata": {},
     "output_type": "execute_result"
    }
   ],
   "source": [
    "df.loc[0:3,(\"city\",\"date\")]"
   ]
  },
  {
   "cell_type": "markdown",
   "id": "f2366ed3",
   "metadata": {},
   "source": [
    "#### Q6: how to get the value from the row in position 3 and the column in position 2"
   ]
  },
  {
   "cell_type": "code",
   "execution_count": 8,
   "id": "21d76d32",
   "metadata": {},
   "outputs": [
    {
     "data": {
      "text/plain": [
       "-0.446081"
      ]
     },
     "execution_count": 8,
     "metadata": {},
     "output_type": "execute_result"
    }
   ],
   "source": [
    "df.iloc[2,1]"
   ]
  },
  {
   "cell_type": "markdown",
   "id": "39424994",
   "metadata": {},
   "source": [
    "#### Q7: how to use iloc to select every 300th row from a data set"
   ]
  },
  {
   "cell_type": "code",
   "execution_count": 9,
   "id": "ff95b848",
   "metadata": {},
   "outputs": [
    {
     "data": {
      "text/html": [
       "<div>\n",
       "<style scoped>\n",
       "    .dataframe tbody tr th:only-of-type {\n",
       "        vertical-align: middle;\n",
       "    }\n",
       "\n",
       "    .dataframe tbody tr th {\n",
       "        vertical-align: top;\n",
       "    }\n",
       "\n",
       "    .dataframe thead th {\n",
       "        text-align: right;\n",
       "    }\n",
       "</style>\n",
       "<table border=\"1\" class=\"dataframe\">\n",
       "  <thead>\n",
       "    <tr style=\"text-align: right;\">\n",
       "      <th></th>\n",
       "      <th>lat</th>\n",
       "      <th>lon</th>\n",
       "      <th>date</th>\n",
       "      <th>city</th>\n",
       "      <th>country</th>\n",
       "    </tr>\n",
       "  </thead>\n",
       "  <tbody>\n",
       "    <tr>\n",
       "      <th>0</th>\n",
       "      <td>51.481292</td>\n",
       "      <td>-0.451011</td>\n",
       "      <td>05/14/2014 09:07</td>\n",
       "      <td>West Drayton</td>\n",
       "      <td>United Kingdom</td>\n",
       "    </tr>\n",
       "    <tr>\n",
       "      <th>300</th>\n",
       "      <td>41.377091</td>\n",
       "      <td>2.151175</td>\n",
       "      <td>05/20/2014 03:18</td>\n",
       "      <td>Barcelona</td>\n",
       "      <td>Spain</td>\n",
       "    </tr>\n",
       "    <tr>\n",
       "      <th>600</th>\n",
       "      <td>50.052338</td>\n",
       "      <td>19.946220</td>\n",
       "      <td>05/31/2014 21:10</td>\n",
       "      <td>Krakow</td>\n",
       "      <td>Poland</td>\n",
       "    </tr>\n",
       "    <tr>\n",
       "      <th>900</th>\n",
       "      <td>48.561181</td>\n",
       "      <td>9.059672</td>\n",
       "      <td>06/09/2014 15:12</td>\n",
       "      <td>Tübingen</td>\n",
       "      <td>Germany</td>\n",
       "    </tr>\n",
       "    <tr>\n",
       "      <th>1200</th>\n",
       "      <td>41.378301</td>\n",
       "      <td>2.187443</td>\n",
       "      <td>06/17/2014 16:37</td>\n",
       "      <td>Barcelona</td>\n",
       "      <td>Spain</td>\n",
       "    </tr>\n",
       "    <tr>\n",
       "      <th>1500</th>\n",
       "      <td>42.208201</td>\n",
       "      <td>20.735993</td>\n",
       "      <td>06/30/2014 08:27</td>\n",
       "      <td>Prizren</td>\n",
       "      <td>Kosovo</td>\n",
       "    </tr>\n",
       "  </tbody>\n",
       "</table>\n",
       "</div>"
      ],
      "text/plain": [
       "            lat        lon              date          city         country\n",
       "0     51.481292  -0.451011  05/14/2014 09:07  West Drayton  United Kingdom\n",
       "300   41.377091   2.151175  05/20/2014 03:18     Barcelona           Spain\n",
       "600   50.052338  19.946220  05/31/2014 21:10        Krakow          Poland\n",
       "900   48.561181   9.059672  06/09/2014 15:12      Tübingen         Germany\n",
       "1200  41.378301   2.187443  06/17/2014 16:37     Barcelona           Spain\n",
       "1500  42.208201  20.735993  06/30/2014 08:27       Prizren          Kosovo"
      ]
     },
     "execution_count": 9,
     "metadata": {},
     "output_type": "execute_result"
    }
   ],
   "source": [
    "df.iloc[::300,]"
   ]
  },
  {
   "cell_type": "markdown",
   "id": "774cc1b0",
   "metadata": {},
   "source": [
    "### Part 2 How to select rows by some value(s)"
   ]
  },
  {
   "cell_type": "code",
   "execution_count": 10,
   "id": "82aecdba",
   "metadata": {},
   "outputs": [
    {
     "data": {
      "text/html": [
       "<div>\n",
       "<style scoped>\n",
       "    .dataframe tbody tr th:only-of-type {\n",
       "        vertical-align: middle;\n",
       "    }\n",
       "\n",
       "    .dataframe tbody tr th {\n",
       "        vertical-align: top;\n",
       "    }\n",
       "\n",
       "    .dataframe thead th {\n",
       "        text-align: right;\n",
       "    }\n",
       "</style>\n",
       "<table border=\"1\" class=\"dataframe\">\n",
       "  <thead>\n",
       "    <tr style=\"text-align: right;\">\n",
       "      <th></th>\n",
       "      <th>lat</th>\n",
       "      <th>lon</th>\n",
       "      <th>date</th>\n",
       "      <th>city</th>\n",
       "      <th>country</th>\n",
       "    </tr>\n",
       "  </thead>\n",
       "  <tbody>\n",
       "    <tr>\n",
       "      <th>173</th>\n",
       "      <td>41.044556</td>\n",
       "      <td>28.983286</td>\n",
       "      <td>07/08/2014 16:44</td>\n",
       "      <td>Istanbul</td>\n",
       "      <td>Turkey</td>\n",
       "    </tr>\n",
       "    <tr>\n",
       "      <th>174</th>\n",
       "      <td>41.008992</td>\n",
       "      <td>28.968268</td>\n",
       "      <td>07/08/2014 20:03</td>\n",
       "      <td>Istanbul</td>\n",
       "      <td>Turkey</td>\n",
       "    </tr>\n",
       "    <tr>\n",
       "      <th>175</th>\n",
       "      <td>41.043487</td>\n",
       "      <td>28.985488</td>\n",
       "      <td>07/08/2014 22:18</td>\n",
       "      <td>Istanbul</td>\n",
       "      <td>Turkey</td>\n",
       "    </tr>\n",
       "    <tr>\n",
       "      <th>176</th>\n",
       "      <td>40.977637</td>\n",
       "      <td>28.823879</td>\n",
       "      <td>07/09/2014 09:03</td>\n",
       "      <td>Istanbul</td>\n",
       "      <td>Turkey</td>\n",
       "    </tr>\n",
       "    <tr>\n",
       "      <th>177</th>\n",
       "      <td>48.357110</td>\n",
       "      <td>11.791346</td>\n",
       "      <td>07/09/2014 13:20</td>\n",
       "      <td>Munich</td>\n",
       "      <td>Germany</td>\n",
       "    </tr>\n",
       "  </tbody>\n",
       "</table>\n",
       "</div>"
      ],
      "text/plain": [
       "           lat        lon              date      city  country\n",
       "173  41.044556  28.983286  07/08/2014 16:44  Istanbul   Turkey\n",
       "174  41.008992  28.968268  07/08/2014 20:03  Istanbul   Turkey\n",
       "175  41.043487  28.985488  07/08/2014 22:18  Istanbul   Turkey\n",
       "176  40.977637  28.823879  07/09/2014 09:03  Istanbul   Turkey\n",
       "177  48.357110  11.791346  07/09/2014 13:20    Munich  Germany"
      ]
     },
     "execution_count": 10,
     "metadata": {},
     "output_type": "execute_result"
    }
   ],
   "source": [
    "ds = pd.read_csv('data/summer-travel-gps-simplified.csv')\n",
    "ds.tail()"
   ]
  },
  {
   "cell_type": "markdown",
   "id": "2bbe61de",
   "metadata": {},
   "source": [
    "#### Q9: create a Series of true/false, indicating if each \"city\" row in the column is equal to \"Munich\""
   ]
  },
  {
   "cell_type": "code",
   "execution_count": 11,
   "id": "7890a046",
   "metadata": {},
   "outputs": [
    {
     "data": {
      "text/plain": [
       "0      False\n",
       "1      False\n",
       "2      False\n",
       "3      False\n",
       "4      False\n",
       "       ...  \n",
       "173    False\n",
       "174    False\n",
       "175    False\n",
       "176    False\n",
       "177     True\n",
       "Name: city, Length: 178, dtype: bool"
      ]
     },
     "execution_count": 11,
     "metadata": {},
     "output_type": "execute_result"
    }
   ],
   "source": [
    "ds[\"city\"] == \"Munich\""
   ]
  },
  {
   "cell_type": "markdown",
   "id": "0ebcf900",
   "metadata": {},
   "source": [
    "#### Q10: what cities were visited in spain that were not barcelona? Create a dataframe for it."
   ]
  },
  {
   "cell_type": "code",
   "execution_count": 12,
   "id": "d9fe8847",
   "metadata": {},
   "outputs": [
    {
     "data": {
      "text/plain": [
       "24        El Prat de Llobregat\n",
       "25                  Viladecans\n",
       "126       El Prat de Llobregat\n",
       "127       El Prat de Llobregat\n",
       "131    Hospitalet de Llobregat\n",
       "138                 Viladecans\n",
       "Name: city, dtype: object"
      ]
     },
     "execution_count": 12,
     "metadata": {},
     "output_type": "execute_result"
    }
   ],
   "source": [
    "ds[\"city\"][(ds[\"country\"] == \"Spain\") & (ds[\"city\"] != \"Barcelona\")]"
   ]
  },
  {
   "cell_type": "markdown",
   "id": "317959e8",
   "metadata": {},
   "source": [
    "#### Q11: select rows where either the city is munich, or the country is serbia"
   ]
  },
  {
   "cell_type": "code",
   "execution_count": 13,
   "id": "2de1edda",
   "metadata": {},
   "outputs": [
    {
     "data": {
      "text/html": [
       "<div>\n",
       "<style scoped>\n",
       "    .dataframe tbody tr th:only-of-type {\n",
       "        vertical-align: middle;\n",
       "    }\n",
       "\n",
       "    .dataframe tbody tr th {\n",
       "        vertical-align: top;\n",
       "    }\n",
       "\n",
       "    .dataframe thead th {\n",
       "        text-align: right;\n",
       "    }\n",
       "</style>\n",
       "<table border=\"1\" class=\"dataframe\">\n",
       "  <thead>\n",
       "    <tr style=\"text-align: right;\">\n",
       "      <th></th>\n",
       "      <th>lat</th>\n",
       "      <th>lon</th>\n",
       "      <th>date</th>\n",
       "      <th>city</th>\n",
       "      <th>country</th>\n",
       "    </tr>\n",
       "  </thead>\n",
       "  <tbody>\n",
       "    <tr>\n",
       "      <th>139</th>\n",
       "      <td>44.821164</td>\n",
       "      <td>20.289821</td>\n",
       "      <td>06/21/2014 01:59</td>\n",
       "      <td>Belgrade</td>\n",
       "      <td>Serbia</td>\n",
       "    </tr>\n",
       "    <tr>\n",
       "      <th>140</th>\n",
       "      <td>44.820414</td>\n",
       "      <td>20.463465</td>\n",
       "      <td>06/21/2014 18:44</td>\n",
       "      <td>Belgrade</td>\n",
       "      <td>Serbia</td>\n",
       "    </tr>\n",
       "    <tr>\n",
       "      <th>141</th>\n",
       "      <td>44.761583</td>\n",
       "      <td>19.577904</td>\n",
       "      <td>06/22/2014 07:58</td>\n",
       "      <td>Slepčević</td>\n",
       "      <td>Serbia</td>\n",
       "    </tr>\n",
       "    <tr>\n",
       "      <th>177</th>\n",
       "      <td>48.357110</td>\n",
       "      <td>11.791346</td>\n",
       "      <td>07/09/2014 13:20</td>\n",
       "      <td>Munich</td>\n",
       "      <td>Germany</td>\n",
       "    </tr>\n",
       "  </tbody>\n",
       "</table>\n",
       "</div>"
      ],
      "text/plain": [
       "           lat        lon              date       city  country\n",
       "139  44.821164  20.289821  06/21/2014 01:59   Belgrade   Serbia\n",
       "140  44.820414  20.463465  06/21/2014 18:44   Belgrade   Serbia\n",
       "141  44.761583  19.577904  06/22/2014 07:58  Slepčević   Serbia\n",
       "177  48.357110  11.791346  07/09/2014 13:20     Munich  Germany"
      ]
     },
     "execution_count": 13,
     "metadata": {},
     "output_type": "execute_result"
    }
   ],
   "source": [
    "ds[(ds[\"country\"] == \"Serbia\") | (ds[\"city\"] == \"Munich\")]"
   ]
  },
  {
   "cell_type": "markdown",
   "id": "027a2823",
   "metadata": {},
   "source": [
    "#### Q12: how many observations are west of the prime meridian?"
   ]
  },
  {
   "cell_type": "code",
   "execution_count": 14,
   "id": "751e21f0",
   "metadata": {},
   "outputs": [
    {
     "data": {
      "text/html": [
       "<div>\n",
       "<style scoped>\n",
       "    .dataframe tbody tr th:only-of-type {\n",
       "        vertical-align: middle;\n",
       "    }\n",
       "\n",
       "    .dataframe tbody tr th {\n",
       "        vertical-align: top;\n",
       "    }\n",
       "\n",
       "    .dataframe thead th {\n",
       "        text-align: right;\n",
       "    }\n",
       "</style>\n",
       "<table border=\"1\" class=\"dataframe\">\n",
       "  <thead>\n",
       "    <tr style=\"text-align: right;\">\n",
       "      <th></th>\n",
       "      <th>lat</th>\n",
       "      <th>lon</th>\n",
       "      <th>date</th>\n",
       "      <th>city</th>\n",
       "      <th>country</th>\n",
       "    </tr>\n",
       "  </thead>\n",
       "  <tbody>\n",
       "    <tr>\n",
       "      <th>0</th>\n",
       "      <td>51.481292</td>\n",
       "      <td>-0.451011</td>\n",
       "      <td>05/14/2014 09:07</td>\n",
       "      <td>West Drayton</td>\n",
       "      <td>United Kingdom</td>\n",
       "    </tr>\n",
       "    <tr>\n",
       "      <th>1</th>\n",
       "      <td>38.781775</td>\n",
       "      <td>-9.137544</td>\n",
       "      <td>05/14/2014 15:11</td>\n",
       "      <td>Lisbon</td>\n",
       "      <td>Portugal</td>\n",
       "    </tr>\n",
       "    <tr>\n",
       "      <th>2</th>\n",
       "      <td>38.711050</td>\n",
       "      <td>-9.139739</td>\n",
       "      <td>05/14/2014 16:40</td>\n",
       "      <td>Lisbon</td>\n",
       "      <td>Portugal</td>\n",
       "    </tr>\n",
       "    <tr>\n",
       "      <th>3</th>\n",
       "      <td>38.715637</td>\n",
       "      <td>-9.120558</td>\n",
       "      <td>05/14/2014 18:25</td>\n",
       "      <td>Lisbon</td>\n",
       "      <td>Portugal</td>\n",
       "    </tr>\n",
       "    <tr>\n",
       "      <th>4</th>\n",
       "      <td>38.711977</td>\n",
       "      <td>-9.141788</td>\n",
       "      <td>05/14/2014 19:26</td>\n",
       "      <td>Lisbon</td>\n",
       "      <td>Portugal</td>\n",
       "    </tr>\n",
       "    <tr>\n",
       "      <th>5</th>\n",
       "      <td>38.723108</td>\n",
       "      <td>-9.113374</td>\n",
       "      <td>05/15/2014 11:34</td>\n",
       "      <td>Lisbon</td>\n",
       "      <td>Portugal</td>\n",
       "    </tr>\n",
       "    <tr>\n",
       "      <th>6</th>\n",
       "      <td>38.691944</td>\n",
       "      <td>-9.215561</td>\n",
       "      <td>05/15/2014 14:50</td>\n",
       "      <td>Lisbon</td>\n",
       "      <td>Portugal</td>\n",
       "    </tr>\n",
       "    <tr>\n",
       "      <th>7</th>\n",
       "      <td>38.708487</td>\n",
       "      <td>-9.136022</td>\n",
       "      <td>05/15/2014 16:49</td>\n",
       "      <td>Lisbon</td>\n",
       "      <td>Portugal</td>\n",
       "    </tr>\n",
       "    <tr>\n",
       "      <th>8</th>\n",
       "      <td>38.797558</td>\n",
       "      <td>-9.341000</td>\n",
       "      <td>05/16/2014 10:58</td>\n",
       "      <td>Algueirão-Mem Martins</td>\n",
       "      <td>Portugal</td>\n",
       "    </tr>\n",
       "    <tr>\n",
       "      <th>9</th>\n",
       "      <td>38.801171</td>\n",
       "      <td>-9.425103</td>\n",
       "      <td>05/16/2014 13:43</td>\n",
       "      <td>Sintra</td>\n",
       "      <td>Portugal</td>\n",
       "    </tr>\n",
       "    <tr>\n",
       "      <th>10</th>\n",
       "      <td>38.793071</td>\n",
       "      <td>-9.285825</td>\n",
       "      <td>05/16/2014 15:13</td>\n",
       "      <td>Sintra</td>\n",
       "      <td>Portugal</td>\n",
       "    </tr>\n",
       "    <tr>\n",
       "      <th>11</th>\n",
       "      <td>38.816611</td>\n",
       "      <td>-9.408500</td>\n",
       "      <td>05/16/2014 16:13</td>\n",
       "      <td>Sintra</td>\n",
       "      <td>Portugal</td>\n",
       "    </tr>\n",
       "    <tr>\n",
       "      <th>12</th>\n",
       "      <td>38.788205</td>\n",
       "      <td>-9.388018</td>\n",
       "      <td>05/16/2014 16:28</td>\n",
       "      <td>Sintra</td>\n",
       "      <td>Portugal</td>\n",
       "    </tr>\n",
       "    <tr>\n",
       "      <th>13</th>\n",
       "      <td>38.711024</td>\n",
       "      <td>-9.137398</td>\n",
       "      <td>05/16/2014 23:24</td>\n",
       "      <td>Lisbon</td>\n",
       "      <td>Portugal</td>\n",
       "    </tr>\n",
       "    <tr>\n",
       "      <th>14</th>\n",
       "      <td>38.742018</td>\n",
       "      <td>-9.169380</td>\n",
       "      <td>05/17/2014 09:24</td>\n",
       "      <td>Lisbon</td>\n",
       "      <td>Portugal</td>\n",
       "    </tr>\n",
       "    <tr>\n",
       "      <th>15</th>\n",
       "      <td>39.118383</td>\n",
       "      <td>-8.913738</td>\n",
       "      <td>05/17/2014 11:12</td>\n",
       "      <td>Azambuja</td>\n",
       "      <td>Portugal</td>\n",
       "    </tr>\n",
       "    <tr>\n",
       "      <th>16</th>\n",
       "      <td>39.272876</td>\n",
       "      <td>-8.712187</td>\n",
       "      <td>05/17/2014 11:27</td>\n",
       "      <td>Santarém</td>\n",
       "      <td>Portugal</td>\n",
       "    </tr>\n",
       "    <tr>\n",
       "      <th>17</th>\n",
       "      <td>39.476522</td>\n",
       "      <td>-8.634345</td>\n",
       "      <td>05/17/2014 11:42</td>\n",
       "      <td>Zibreira</td>\n",
       "      <td>Portugal</td>\n",
       "    </tr>\n",
       "    <tr>\n",
       "      <th>18</th>\n",
       "      <td>39.628772</td>\n",
       "      <td>-8.695136</td>\n",
       "      <td>05/17/2014 12:12</td>\n",
       "      <td>São Mamede</td>\n",
       "      <td>Portugal</td>\n",
       "    </tr>\n",
       "    <tr>\n",
       "      <th>19</th>\n",
       "      <td>39.841086</td>\n",
       "      <td>-8.718608</td>\n",
       "      <td>05/17/2014 12:28</td>\n",
       "      <td>Leiria District</td>\n",
       "      <td>Portugal</td>\n",
       "    </tr>\n",
       "    <tr>\n",
       "      <th>20</th>\n",
       "      <td>40.210869</td>\n",
       "      <td>-8.481383</td>\n",
       "      <td>05/17/2014 12:58</td>\n",
       "      <td>Coimbra Municipality</td>\n",
       "      <td>Portugal</td>\n",
       "    </tr>\n",
       "    <tr>\n",
       "      <th>21</th>\n",
       "      <td>40.609111</td>\n",
       "      <td>-8.544819</td>\n",
       "      <td>05/17/2014 13:28</td>\n",
       "      <td>Aveiro District</td>\n",
       "      <td>Portugal</td>\n",
       "    </tr>\n",
       "    <tr>\n",
       "      <th>22</th>\n",
       "      <td>41.062147</td>\n",
       "      <td>-8.575820</td>\n",
       "      <td>05/17/2014 13:58</td>\n",
       "      <td>Vila Nova de Gaia</td>\n",
       "      <td>Portugal</td>\n",
       "    </tr>\n",
       "    <tr>\n",
       "      <th>23</th>\n",
       "      <td>41.237205</td>\n",
       "      <td>-8.672173</td>\n",
       "      <td>05/18/2014 19:55</td>\n",
       "      <td>Maia</td>\n",
       "      <td>Portugal</td>\n",
       "    </tr>\n",
       "  </tbody>\n",
       "</table>\n",
       "</div>"
      ],
      "text/plain": [
       "          lat       lon              date                   city  \\\n",
       "0   51.481292 -0.451011  05/14/2014 09:07           West Drayton   \n",
       "1   38.781775 -9.137544  05/14/2014 15:11                 Lisbon   \n",
       "2   38.711050 -9.139739  05/14/2014 16:40                 Lisbon   \n",
       "3   38.715637 -9.120558  05/14/2014 18:25                 Lisbon   \n",
       "4   38.711977 -9.141788  05/14/2014 19:26                 Lisbon   \n",
       "5   38.723108 -9.113374  05/15/2014 11:34                 Lisbon   \n",
       "6   38.691944 -9.215561  05/15/2014 14:50                 Lisbon   \n",
       "7   38.708487 -9.136022  05/15/2014 16:49                 Lisbon   \n",
       "8   38.797558 -9.341000  05/16/2014 10:58  Algueirão-Mem Martins   \n",
       "9   38.801171 -9.425103  05/16/2014 13:43                 Sintra   \n",
       "10  38.793071 -9.285825  05/16/2014 15:13                 Sintra   \n",
       "11  38.816611 -9.408500  05/16/2014 16:13                 Sintra   \n",
       "12  38.788205 -9.388018  05/16/2014 16:28                 Sintra   \n",
       "13  38.711024 -9.137398  05/16/2014 23:24                 Lisbon   \n",
       "14  38.742018 -9.169380  05/17/2014 09:24                 Lisbon   \n",
       "15  39.118383 -8.913738  05/17/2014 11:12               Azambuja   \n",
       "16  39.272876 -8.712187  05/17/2014 11:27               Santarém   \n",
       "17  39.476522 -8.634345  05/17/2014 11:42               Zibreira   \n",
       "18  39.628772 -8.695136  05/17/2014 12:12             São Mamede   \n",
       "19  39.841086 -8.718608  05/17/2014 12:28        Leiria District   \n",
       "20  40.210869 -8.481383  05/17/2014 12:58   Coimbra Municipality   \n",
       "21  40.609111 -8.544819  05/17/2014 13:28        Aveiro District   \n",
       "22  41.062147 -8.575820  05/17/2014 13:58      Vila Nova de Gaia   \n",
       "23  41.237205 -8.672173  05/18/2014 19:55                   Maia   \n",
       "\n",
       "           country  \n",
       "0   United Kingdom  \n",
       "1         Portugal  \n",
       "2         Portugal  \n",
       "3         Portugal  \n",
       "4         Portugal  \n",
       "5         Portugal  \n",
       "6         Portugal  \n",
       "7         Portugal  \n",
       "8         Portugal  \n",
       "9         Portugal  \n",
       "10        Portugal  \n",
       "11        Portugal  \n",
       "12        Portugal  \n",
       "13        Portugal  \n",
       "14        Portugal  \n",
       "15        Portugal  \n",
       "16        Portugal  \n",
       "17        Portugal  \n",
       "18        Portugal  \n",
       "19        Portugal  \n",
       "20        Portugal  \n",
       "21        Portugal  \n",
       "22        Portugal  \n",
       "23        Portugal  "
      ]
     },
     "execution_count": 14,
     "metadata": {},
     "output_type": "execute_result"
    }
   ],
   "source": [
    "ds[(ds[\"lon\"] < 0)]"
   ]
  },
  {
   "cell_type": "markdown",
   "id": "c7cfd728",
   "metadata": {},
   "source": [
    "#### Q13: get all rows that contain a city that starts with the letter G"
   ]
  },
  {
   "cell_type": "code",
   "execution_count": 15,
   "id": "4d71b325",
   "metadata": {},
   "outputs": [
    {
     "data": {
      "text/html": [
       "<div>\n",
       "<style scoped>\n",
       "    .dataframe tbody tr th:only-of-type {\n",
       "        vertical-align: middle;\n",
       "    }\n",
       "\n",
       "    .dataframe tbody tr th {\n",
       "        vertical-align: top;\n",
       "    }\n",
       "\n",
       "    .dataframe thead th {\n",
       "        text-align: right;\n",
       "    }\n",
       "</style>\n",
       "<table border=\"1\" class=\"dataframe\">\n",
       "  <thead>\n",
       "    <tr style=\"text-align: right;\">\n",
       "      <th></th>\n",
       "      <th>lat</th>\n",
       "      <th>lon</th>\n",
       "      <th>date</th>\n",
       "      <th>city</th>\n",
       "      <th>country</th>\n",
       "    </tr>\n",
       "  </thead>\n",
       "  <tbody>\n",
       "    <tr>\n",
       "      <th>62</th>\n",
       "      <td>50.273632</td>\n",
       "      <td>18.729429</td>\n",
       "      <td>06/02/2014 06:39</td>\n",
       "      <td>Gliwice</td>\n",
       "      <td>Poland</td>\n",
       "    </tr>\n",
       "    <tr>\n",
       "      <th>114</th>\n",
       "      <td>48.282940</td>\n",
       "      <td>8.199630</td>\n",
       "      <td>06/10/2014 13:33</td>\n",
       "      <td>Gutach</td>\n",
       "      <td>Germany</td>\n",
       "    </tr>\n",
       "    <tr>\n",
       "      <th>115</th>\n",
       "      <td>48.389029</td>\n",
       "      <td>8.021342</td>\n",
       "      <td>06/10/2014 13:48</td>\n",
       "      <td>Gengenbach</td>\n",
       "      <td>Germany</td>\n",
       "    </tr>\n",
       "    <tr>\n",
       "      <th>152</th>\n",
       "      <td>40.187825</td>\n",
       "      <td>20.079303</td>\n",
       "      <td>07/04/2014 17:42</td>\n",
       "      <td>Gjirokastër</td>\n",
       "      <td>Albania</td>\n",
       "    </tr>\n",
       "  </tbody>\n",
       "</table>\n",
       "</div>"
      ],
      "text/plain": [
       "           lat        lon              date         city  country\n",
       "62   50.273632  18.729429  06/02/2014 06:39      Gliwice   Poland\n",
       "114  48.282940   8.199630  06/10/2014 13:33       Gutach  Germany\n",
       "115  48.389029   8.021342  06/10/2014 13:48   Gengenbach  Germany\n",
       "152  40.187825  20.079303  07/04/2014 17:42  Gjirokastër  Albania"
      ]
     },
     "execution_count": 15,
     "metadata": {},
     "output_type": "execute_result"
    }
   ],
   "source": [
    "ds[ds[\"city\"].str[0].isin([\"G\"])]"
   ]
  },
  {
   "cell_type": "markdown",
   "id": "08be16e8",
   "metadata": {},
   "source": [
    "#### Q14: how many unique cities and countries in the dataset? Also can you check missing values for the dataframe"
   ]
  },
  {
   "cell_type": "code",
   "execution_count": 16,
   "id": "a264b753",
   "metadata": {},
   "outputs": [
    {
     "name": "stdout",
     "output_type": "stream",
     "text": [
      "['West Drayton' 'Lisbon' 'Algueirão-Mem Martins' 'Sintra' 'Azambuja'\n",
      " 'Santarém' 'Zibreira' 'São Mamede' 'Leiria District'\n",
      " 'Coimbra Municipality' 'Aveiro District' 'Vila Nova de Gaia' 'Maia'\n",
      " 'El Prat de Llobregat' 'Viladecans' 'Barcelona' 'Zendek'\n",
      " 'Silesian Voivodeship' 'Dabrowa Gornicza' 'Olkusz County' 'Krakow'\n",
      " 'Oswiecim' 'Babice, Oświęcim County'\n",
      " 'Wygiełzów, Lesser Poland Voivodeship' 'Chrzanów County' 'Wieliczka'\n",
      " 'Balice, Lesser Poland Voivodeship' 'Trzebinia' 'Imielin' 'Ruda Slaska'\n",
      " 'Gliwice' 'Tarnowskie Góry County' 'Bytom' 'Novy Bohumin' 'Hranice'\n",
      " 'Prerov' 'Ústí nad Orlicí' 'Kojice' 'Sadská' 'Prague' 'Úvaly' 'Poříčany'\n",
      " 'Kolin' 'Kutna Hora' 'Nové Dvory (Kutná Hora District)' 'Český Brod'\n",
      " 'Mýto' 'Plzen' 'Blatnice' 'Rozvadov' 'Kümmersbruck' 'Winkelhaid'\n",
      " 'Kammerstein' 'Ellhofen' 'Obersulm' 'Stuttgart' 'Wernau' 'Riederich'\n",
      " 'Tübingen' 'Rottenburg' 'Horb am Neckar' 'Eutingen im Gäu' 'Freudenstadt'\n",
      " 'Alpirsbach' 'Gutach' 'Gengenbach' 'Offenburg' 'Freiburg'\n",
      " 'Titisee-Neustadt' 'Villingen-Schwenningen' 'Kirchentellinsfurt'\n",
      " 'Hospitalet de Llobregat' 'Belgrade' 'Slepčević' 'Sarajevo' 'Mostar'\n",
      " 'Ploče' 'Split' 'Dubrovnik' 'Kotor' 'Prizren' 'Ohrid' 'Berat'\n",
      " 'Gjirokastër' 'Kakavia' 'Dytiki Ellada' 'Peloponnese' 'Athens' 'Attica'\n",
      " 'Istanbul' 'Munich']\n"
     ]
    },
    {
     "data": {
      "text/plain": [
       "91"
      ]
     },
     "execution_count": 16,
     "metadata": {},
     "output_type": "execute_result"
    }
   ],
   "source": [
    "print(ds[\"city\"].unique())\n",
    "len(ds[\"city\"].unique())"
   ]
  },
  {
   "cell_type": "code",
   "execution_count": 17,
   "id": "8ec11762",
   "metadata": {},
   "outputs": [
    {
     "name": "stdout",
     "output_type": "stream",
     "text": [
      "['United Kingdom' 'Portugal' 'Spain' 'Poland' 'Czech Republic' 'Germany'\n",
      " 'Serbia' 'Bosnia and Herzegovina' 'Croatia' 'Montenegro' 'Kosovo'\n",
      " 'Macedonia (FYROM)' 'Albania' 'Greece' 'Turkey']\n"
     ]
    },
    {
     "data": {
      "text/plain": [
       "15"
      ]
     },
     "execution_count": 17,
     "metadata": {},
     "output_type": "execute_result"
    }
   ],
   "source": [
    "print(ds[\"country\"].unique())\n",
    "len(ds[\"country\"].unique())"
   ]
  },
  {
   "cell_type": "code",
   "execution_count": 18,
   "id": "3c71edb4",
   "metadata": {},
   "outputs": [
    {
     "data": {
      "text/html": [
       "<div>\n",
       "<style scoped>\n",
       "    .dataframe tbody tr th:only-of-type {\n",
       "        vertical-align: middle;\n",
       "    }\n",
       "\n",
       "    .dataframe tbody tr th {\n",
       "        vertical-align: top;\n",
       "    }\n",
       "\n",
       "    .dataframe thead th {\n",
       "        text-align: right;\n",
       "    }\n",
       "</style>\n",
       "<table border=\"1\" class=\"dataframe\">\n",
       "  <thead>\n",
       "    <tr style=\"text-align: right;\">\n",
       "      <th></th>\n",
       "      <th>lat</th>\n",
       "      <th>lon</th>\n",
       "      <th>date</th>\n",
       "      <th>city</th>\n",
       "      <th>country</th>\n",
       "    </tr>\n",
       "  </thead>\n",
       "  <tbody>\n",
       "    <tr>\n",
       "      <th>0</th>\n",
       "      <td>False</td>\n",
       "      <td>False</td>\n",
       "      <td>False</td>\n",
       "      <td>False</td>\n",
       "      <td>False</td>\n",
       "    </tr>\n",
       "    <tr>\n",
       "      <th>1</th>\n",
       "      <td>False</td>\n",
       "      <td>False</td>\n",
       "      <td>False</td>\n",
       "      <td>False</td>\n",
       "      <td>False</td>\n",
       "    </tr>\n",
       "    <tr>\n",
       "      <th>2</th>\n",
       "      <td>False</td>\n",
       "      <td>False</td>\n",
       "      <td>False</td>\n",
       "      <td>False</td>\n",
       "      <td>False</td>\n",
       "    </tr>\n",
       "    <tr>\n",
       "      <th>3</th>\n",
       "      <td>False</td>\n",
       "      <td>False</td>\n",
       "      <td>False</td>\n",
       "      <td>False</td>\n",
       "      <td>False</td>\n",
       "    </tr>\n",
       "    <tr>\n",
       "      <th>4</th>\n",
       "      <td>False</td>\n",
       "      <td>False</td>\n",
       "      <td>False</td>\n",
       "      <td>False</td>\n",
       "      <td>False</td>\n",
       "    </tr>\n",
       "    <tr>\n",
       "      <th>...</th>\n",
       "      <td>...</td>\n",
       "      <td>...</td>\n",
       "      <td>...</td>\n",
       "      <td>...</td>\n",
       "      <td>...</td>\n",
       "    </tr>\n",
       "    <tr>\n",
       "      <th>173</th>\n",
       "      <td>False</td>\n",
       "      <td>False</td>\n",
       "      <td>False</td>\n",
       "      <td>False</td>\n",
       "      <td>False</td>\n",
       "    </tr>\n",
       "    <tr>\n",
       "      <th>174</th>\n",
       "      <td>False</td>\n",
       "      <td>False</td>\n",
       "      <td>False</td>\n",
       "      <td>False</td>\n",
       "      <td>False</td>\n",
       "    </tr>\n",
       "    <tr>\n",
       "      <th>175</th>\n",
       "      <td>False</td>\n",
       "      <td>False</td>\n",
       "      <td>False</td>\n",
       "      <td>False</td>\n",
       "      <td>False</td>\n",
       "    </tr>\n",
       "    <tr>\n",
       "      <th>176</th>\n",
       "      <td>False</td>\n",
       "      <td>False</td>\n",
       "      <td>False</td>\n",
       "      <td>False</td>\n",
       "      <td>False</td>\n",
       "    </tr>\n",
       "    <tr>\n",
       "      <th>177</th>\n",
       "      <td>False</td>\n",
       "      <td>False</td>\n",
       "      <td>False</td>\n",
       "      <td>False</td>\n",
       "      <td>False</td>\n",
       "    </tr>\n",
       "  </tbody>\n",
       "</table>\n",
       "<p>178 rows × 5 columns</p>\n",
       "</div>"
      ],
      "text/plain": [
       "       lat    lon   date   city  country\n",
       "0    False  False  False  False    False\n",
       "1    False  False  False  False    False\n",
       "2    False  False  False  False    False\n",
       "3    False  False  False  False    False\n",
       "4    False  False  False  False    False\n",
       "..     ...    ...    ...    ...      ...\n",
       "173  False  False  False  False    False\n",
       "174  False  False  False  False    False\n",
       "175  False  False  False  False    False\n",
       "176  False  False  False  False    False\n",
       "177  False  False  False  False    False\n",
       "\n",
       "[178 rows x 5 columns]"
      ]
     },
     "execution_count": 18,
     "metadata": {},
     "output_type": "execute_result"
    }
   ],
   "source": [
    "ds.isna()"
   ]
  },
  {
   "cell_type": "markdown",
   "id": "0554ba92",
   "metadata": {},
   "source": [
    "#### Q15: group by country name and show the city names in each of the country"
   ]
  },
  {
   "cell_type": "code",
   "execution_count": 19,
   "id": "509dd4a3",
   "metadata": {},
   "outputs": [
    {
     "data": {
      "text/html": [
       "<div>\n",
       "<style scoped>\n",
       "    .dataframe tbody tr th:only-of-type {\n",
       "        vertical-align: middle;\n",
       "    }\n",
       "\n",
       "    .dataframe tbody tr th {\n",
       "        vertical-align: top;\n",
       "    }\n",
       "\n",
       "    .dataframe thead th {\n",
       "        text-align: right;\n",
       "    }\n",
       "</style>\n",
       "<table border=\"1\" class=\"dataframe\">\n",
       "  <thead>\n",
       "    <tr style=\"text-align: right;\">\n",
       "      <th></th>\n",
       "      <th></th>\n",
       "      <th>lat</th>\n",
       "      <th>lon</th>\n",
       "      <th>date</th>\n",
       "    </tr>\n",
       "    <tr>\n",
       "      <th>country</th>\n",
       "      <th>city</th>\n",
       "      <th></th>\n",
       "      <th></th>\n",
       "      <th></th>\n",
       "    </tr>\n",
       "  </thead>\n",
       "  <tbody>\n",
       "    <tr>\n",
       "      <th rowspan=\"2\" valign=\"top\">Albania</th>\n",
       "      <th>Berat</th>\n",
       "      <td>1</td>\n",
       "      <td>1</td>\n",
       "      <td>1</td>\n",
       "    </tr>\n",
       "    <tr>\n",
       "      <th>Gjirokastër</th>\n",
       "      <td>1</td>\n",
       "      <td>1</td>\n",
       "      <td>1</td>\n",
       "    </tr>\n",
       "    <tr>\n",
       "      <th rowspan=\"2\" valign=\"top\">Bosnia and Herzegovina</th>\n",
       "      <th>Mostar</th>\n",
       "      <td>1</td>\n",
       "      <td>1</td>\n",
       "      <td>1</td>\n",
       "    </tr>\n",
       "    <tr>\n",
       "      <th>Sarajevo</th>\n",
       "      <td>2</td>\n",
       "      <td>2</td>\n",
       "      <td>2</td>\n",
       "    </tr>\n",
       "    <tr>\n",
       "      <th>Croatia</th>\n",
       "      <th>Dubrovnik</th>\n",
       "      <td>1</td>\n",
       "      <td>1</td>\n",
       "      <td>1</td>\n",
       "    </tr>\n",
       "    <tr>\n",
       "      <th>...</th>\n",
       "      <th>...</th>\n",
       "      <td>...</td>\n",
       "      <td>...</td>\n",
       "      <td>...</td>\n",
       "    </tr>\n",
       "    <tr>\n",
       "      <th rowspan=\"3\" valign=\"top\">Spain</th>\n",
       "      <th>El Prat de Llobregat</th>\n",
       "      <td>3</td>\n",
       "      <td>3</td>\n",
       "      <td>3</td>\n",
       "    </tr>\n",
       "    <tr>\n",
       "      <th>Hospitalet de Llobregat</th>\n",
       "      <td>1</td>\n",
       "      <td>1</td>\n",
       "      <td>1</td>\n",
       "    </tr>\n",
       "    <tr>\n",
       "      <th>Viladecans</th>\n",
       "      <td>2</td>\n",
       "      <td>2</td>\n",
       "      <td>2</td>\n",
       "    </tr>\n",
       "    <tr>\n",
       "      <th>Turkey</th>\n",
       "      <th>Istanbul</th>\n",
       "      <td>12</td>\n",
       "      <td>12</td>\n",
       "      <td>12</td>\n",
       "    </tr>\n",
       "    <tr>\n",
       "      <th>United Kingdom</th>\n",
       "      <th>West Drayton</th>\n",
       "      <td>1</td>\n",
       "      <td>1</td>\n",
       "      <td>1</td>\n",
       "    </tr>\n",
       "  </tbody>\n",
       "</table>\n",
       "<p>91 rows × 3 columns</p>\n",
       "</div>"
      ],
      "text/plain": [
       "                                                lat  lon  date\n",
       "country                city                                   \n",
       "Albania                Berat                      1    1     1\n",
       "                       Gjirokastër                1    1     1\n",
       "Bosnia and Herzegovina Mostar                     1    1     1\n",
       "                       Sarajevo                   2    2     2\n",
       "Croatia                Dubrovnik                  1    1     1\n",
       "...                                             ...  ...   ...\n",
       "Spain                  El Prat de Llobregat       3    3     3\n",
       "                       Hospitalet de Llobregat    1    1     1\n",
       "                       Viladecans                 2    2     2\n",
       "Turkey                 Istanbul                  12   12    12\n",
       "United Kingdom         West Drayton               1    1     1\n",
       "\n",
       "[91 rows x 3 columns]"
      ]
     },
     "execution_count": 19,
     "metadata": {},
     "output_type": "execute_result"
    }
   ],
   "source": [
    "group_by = ds.groupby([\"country\",\"city\"])\n",
    "group_by.count()"
   ]
  },
  {
   "cell_type": "markdown",
   "id": "2baf6e22",
   "metadata": {},
   "source": [
    "### Part 3 How to select based on a date-time values"
   ]
  },
  {
   "cell_type": "code",
   "execution_count": 20,
   "id": "422b83ec",
   "metadata": {},
   "outputs": [
    {
     "data": {
      "text/html": [
       "<div>\n",
       "<style scoped>\n",
       "    .dataframe tbody tr th:only-of-type {\n",
       "        vertical-align: middle;\n",
       "    }\n",
       "\n",
       "    .dataframe tbody tr th {\n",
       "        vertical-align: top;\n",
       "    }\n",
       "\n",
       "    .dataframe thead th {\n",
       "        text-align: right;\n",
       "    }\n",
       "</style>\n",
       "<table border=\"1\" class=\"dataframe\">\n",
       "  <thead>\n",
       "    <tr style=\"text-align: right;\">\n",
       "      <th></th>\n",
       "      <th>lat</th>\n",
       "      <th>lon</th>\n",
       "      <th>city</th>\n",
       "      <th>country</th>\n",
       "    </tr>\n",
       "    <tr>\n",
       "      <th>date</th>\n",
       "      <th></th>\n",
       "      <th></th>\n",
       "      <th></th>\n",
       "      <th></th>\n",
       "    </tr>\n",
       "  </thead>\n",
       "  <tbody>\n",
       "    <tr>\n",
       "      <th>2014-05-14 09:07:00</th>\n",
       "      <td>51.481292</td>\n",
       "      <td>-0.451011</td>\n",
       "      <td>West Drayton</td>\n",
       "      <td>United Kingdom</td>\n",
       "    </tr>\n",
       "    <tr>\n",
       "      <th>2014-05-14 09:22:00</th>\n",
       "      <td>51.474005</td>\n",
       "      <td>-0.450999</td>\n",
       "      <td>Hounslow</td>\n",
       "      <td>United Kingdom</td>\n",
       "    </tr>\n",
       "    <tr>\n",
       "      <th>2014-05-14 10:51:00</th>\n",
       "      <td>51.478199</td>\n",
       "      <td>-0.446081</td>\n",
       "      <td>Hounslow</td>\n",
       "      <td>United Kingdom</td>\n",
       "    </tr>\n",
       "    <tr>\n",
       "      <th>2014-05-14 11:24:00</th>\n",
       "      <td>51.478199</td>\n",
       "      <td>-0.446081</td>\n",
       "      <td>Hounslow</td>\n",
       "      <td>United Kingdom</td>\n",
       "    </tr>\n",
       "    <tr>\n",
       "      <th>2014-05-14 11:38:00</th>\n",
       "      <td>51.474146</td>\n",
       "      <td>-0.451562</td>\n",
       "      <td>Hounslow</td>\n",
       "      <td>United Kingdom</td>\n",
       "    </tr>\n",
       "  </tbody>\n",
       "</table>\n",
       "</div>"
      ],
      "text/plain": [
       "                           lat       lon          city         country\n",
       "date                                                                  \n",
       "2014-05-14 09:07:00  51.481292 -0.451011  West Drayton  United Kingdom\n",
       "2014-05-14 09:22:00  51.474005 -0.450999      Hounslow  United Kingdom\n",
       "2014-05-14 10:51:00  51.478199 -0.446081      Hounslow  United Kingdom\n",
       "2014-05-14 11:24:00  51.478199 -0.446081      Hounslow  United Kingdom\n",
       "2014-05-14 11:38:00  51.474146 -0.451562      Hounslow  United Kingdom"
      ]
     },
     "execution_count": 20,
     "metadata": {},
     "output_type": "execute_result"
    }
   ],
   "source": [
    "dt = pd.read_csv('data/summer-travel-gps-full.csv', index_col='date', parse_dates=True)\n",
    "dt.head()"
   ]
  },
  {
   "cell_type": "markdown",
   "id": "00451148",
   "metadata": {},
   "source": [
    "#### Q16: is the timestamp index unique? How can you use code to find it? \n",
    "#### Q17: drop duplicate index"
   ]
  },
  {
   "cell_type": "code",
   "execution_count": 21,
   "id": "1da49d4f",
   "metadata": {},
   "outputs": [
    {
     "data": {
      "text/plain": [
       "(1759, 4)"
      ]
     },
     "execution_count": 21,
     "metadata": {},
     "output_type": "execute_result"
    }
   ],
   "source": [
    "dt.shape"
   ]
  },
  {
   "cell_type": "code",
   "execution_count": 22,
   "id": "3c6cdbfa",
   "metadata": {},
   "outputs": [
    {
     "data": {
      "text/plain": [
       "(1758, 5)"
      ]
     },
     "execution_count": 22,
     "metadata": {},
     "output_type": "execute_result"
    }
   ],
   "source": [
    "dt_reset = dt.reset_index()\n",
    "dt_reset_drop_duplicate = dt_reset.drop_duplicates(subset=[\"date\"])\n",
    "dt_reset_drop_duplicate.shape"
   ]
  },
  {
   "cell_type": "code",
   "execution_count": 23,
   "id": "7f54b374",
   "metadata": {},
   "outputs": [
    {
     "data": {
      "text/plain": [
       "(1758, 4)"
      ]
     },
     "execution_count": 23,
     "metadata": {},
     "output_type": "execute_result"
    }
   ],
   "source": [
    "dt_set_index_again = dt_reset_drop_duplicate.set_index(\"date\")\n",
    "dt_set_index_again.shape"
   ]
  },
  {
   "cell_type": "markdown",
   "id": "4d40e465",
   "metadata": {},
   "source": [
    "It can be seen that one duplicate exist on the index."
   ]
  },
  {
   "cell_type": "markdown",
   "id": "ce29e0ef",
   "metadata": {},
   "source": [
    "#### Q18: create a weekday and a weekend dataframe"
   ]
  },
  {
   "cell_type": "code",
   "execution_count": 29,
   "id": "1650cd8f",
   "metadata": {},
   "outputs": [
    {
     "name": "stdout",
     "output_type": "stream",
     "text": [
      "                           lat        lon          city         country  \\\n",
      "date                                                                      \n",
      "2014-05-14 09:07:00  51.481292  -0.451011  West Drayton  United Kingdom   \n",
      "2014-05-14 09:22:00  51.474005  -0.450999      Hounslow  United Kingdom   \n",
      "2014-05-14 10:51:00  51.478199  -0.446081      Hounslow  United Kingdom   \n",
      "2014-05-14 11:24:00  51.478199  -0.446081      Hounslow  United Kingdom   \n",
      "2014-05-14 11:38:00  51.474146  -0.451562      Hounslow  United Kingdom   \n",
      "...                        ...        ...           ...             ...   \n",
      "2014-07-09 13:13:00  48.356013  11.791710        Munich         Germany   \n",
      "2014-07-09 13:14:00  48.356529  11.792183        Munich         Germany   \n",
      "2014-07-09 13:17:00  48.356285  11.791710        Munich         Germany   \n",
      "2014-07-09 13:18:00  48.355328  11.791710        Munich         Germany   \n",
      "2014-07-09 13:20:00  48.357110  11.791346        Munich         Germany   \n",
      "\n",
      "                       weekday day_number  \n",
      "date                                       \n",
      "2014-05-14 09:07:00  Wednesday  Wednesday  \n",
      "2014-05-14 09:22:00  Wednesday  Wednesday  \n",
      "2014-05-14 10:51:00  Wednesday  Wednesday  \n",
      "2014-05-14 11:24:00  Wednesday  Wednesday  \n",
      "2014-05-14 11:38:00  Wednesday  Wednesday  \n",
      "...                        ...        ...  \n",
      "2014-07-09 13:13:00  Wednesday  Wednesday  \n",
      "2014-07-09 13:14:00  Wednesday  Wednesday  \n",
      "2014-07-09 13:17:00  Wednesday  Wednesday  \n",
      "2014-07-09 13:18:00  Wednesday  Wednesday  \n",
      "2014-07-09 13:20:00  Wednesday  Wednesday  \n",
      "\n",
      "[1245 rows x 6 columns]\n",
      "                           lat        lon      city   country   weekday  \\\n",
      "date                                                                      \n",
      "2014-05-17 00:09:00  38.711824  -9.137308    Lisbon  Portugal  Saturday   \n",
      "2014-05-17 00:39:00  38.711833  -9.137317    Lisbon  Portugal  Saturday   \n",
      "2014-05-17 01:09:00  38.711822  -9.137277    Lisbon  Portugal  Saturday   \n",
      "2014-05-17 01:39:00  38.711823  -9.137273    Lisbon  Portugal  Saturday   \n",
      "2014-05-17 01:54:00  38.711828  -9.137279    Lisbon  Portugal  Saturday   \n",
      "...                        ...        ...       ...       ...       ...   \n",
      "2014-07-06 22:12:00  41.040212  28.988639  Istanbul    Turkey    Sunday   \n",
      "2014-07-06 22:27:00  41.043491  28.985364  Istanbul    Turkey    Sunday   \n",
      "2014-07-06 23:12:00  41.043476  28.985419  Istanbul    Turkey    Sunday   \n",
      "2014-07-06 23:23:00  41.043494  28.985460  Istanbul    Turkey    Sunday   \n",
      "2014-07-06 23:37:00  41.043492  28.985446  Istanbul    Turkey    Sunday   \n",
      "\n",
      "                    day_number  \n",
      "date                            \n",
      "2014-05-17 00:09:00   Saturday  \n",
      "2014-05-17 00:39:00   Saturday  \n",
      "2014-05-17 01:09:00   Saturday  \n",
      "2014-05-17 01:39:00   Saturday  \n",
      "2014-05-17 01:54:00   Saturday  \n",
      "...                        ...  \n",
      "2014-07-06 22:12:00     Sunday  \n",
      "2014-07-06 22:27:00     Sunday  \n",
      "2014-07-06 23:12:00     Sunday  \n",
      "2014-07-06 23:23:00     Sunday  \n",
      "2014-07-06 23:37:00     Sunday  \n",
      "\n",
      "[514 rows x 6 columns]\n"
     ]
    }
   ],
   "source": [
    "dt['weekday'] = [day.strftime(\"%A\") for day in dt.index]\n",
    "weekday = dt[dt.index.weekday.isin(range(5))]\n",
    "weekend = dt[dt.index.weekday.isin([5,6])]\n",
    "print(weekday)\n",
    "print(weekend)"
   ]
  },
  {
   "cell_type": "markdown",
   "id": "e2e0bcb5",
   "metadata": {},
   "source": [
    "#### Q19: calculate and plot the number of observations each day of the week has"
   ]
  },
  {
   "cell_type": "code",
   "execution_count": 41,
   "id": "19d48167",
   "metadata": {},
   "outputs": [
    {
     "data": {
      "text/plain": [
       "<AxesSubplot:>"
      ]
     },
     "execution_count": 41,
     "metadata": {},
     "output_type": "execute_result"
    },
    {
     "data": {
      "image/png": "[encoded data removed]",
      "text/plain": [
       "<Figure size 432x288 with 1 Axes>"
      ]
     },
     "metadata": {},
     "output_type": "display_data"
    }
   ],
   "source": [
    "dt.weekday.value_counts().loc[[\"Monday\", \"Tuesday\", \"Wednesday\", \"Thursday\", \"Friday\", \"Saturday\", \"Sunday\"]].plot.pie(ylabel='')"
   ]
  },
  {
   "cell_type": "code",
   "execution_count": null,
   "id": "fe268e8d",
   "metadata": {},
   "outputs": [],
   "source": []
  }
 ],
 "metadata": {
  "kernelspec": {
   "display_name": "Python 3 (ipykernel)",
   "language": "python",
   "name": "python3"
  },
  "language_info": {
   "codemirror_mode": {
    "name": "ipython",
    "version": 3
   },
   "file_extension": ".py",
   "mimetype": "text/x-python",
   "name": "python",
   "nbconvert_exporter": "python",
   "pygments_lexer": "ipython3",
   "version": "3.9.7"
  }
 },
 "nbformat": 4,
 "nbformat_minor": 5
}
