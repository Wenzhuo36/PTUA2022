{
 "cells": [
  {
   "cell_type": "markdown",
   "id": "07d40da8",
   "metadata": {},
   "source": [
    "## Lab 03-1-1: Operators Exercise"
   ]
  },
  {
   "cell_type": "markdown",
   "id": "28d63d91",
   "metadata": {},
   "source": [
    "### We’ve seen that n = 42 is legal. What about 42 = n?"
   ]
  },
  {
   "cell_type": "code",
   "execution_count": 32,
   "id": "eee8eb64",
   "metadata": {},
   "outputs": [
    {
     "name": "stdout",
     "output_type": "stream",
     "text": [
      "42\n"
     ]
    }
   ],
   "source": [
    "n = 42\n",
    "print(n)"
   ]
  },
  {
   "cell_type": "code",
   "execution_count": 33,
   "id": "2657be69",
   "metadata": {},
   "outputs": [
    {
     "ename": "SyntaxError",
     "evalue": "cannot assign to literal (Temp/ipykernel_16828/1724851122.py, line 1)",
     "output_type": "error",
     "traceback": [
      "\u001b[1;36m  File \u001b[1;32m\"C:\\Users\\75745\\AppData\\Local\\Temp/ipykernel_16828/1724851122.py\"\u001b[1;36m, line \u001b[1;32m1\u001b[0m\n\u001b[1;33m    42 = m\u001b[0m\n\u001b[1;37m    ^\u001b[0m\n\u001b[1;31mSyntaxError\u001b[0m\u001b[1;31m:\u001b[0m cannot assign to literal\n"
     ]
    }
   ],
   "source": [
    "42 = m\n",
    "print(m)"
   ]
  },
  {
   "cell_type": "markdown",
   "id": "6a4c80d7",
   "metadata": {},
   "source": [
    "### How about x = y = 1?"
   ]
  },
  {
   "cell_type": "code",
   "execution_count": 34,
   "id": "672d9abb",
   "metadata": {},
   "outputs": [
    {
     "name": "stdout",
     "output_type": "stream",
     "text": [
      "1\n",
      "1\n"
     ]
    }
   ],
   "source": [
    "x = y = 1\n",
    "print(x)\n",
    "print(y)"
   ]
  },
  {
   "cell_type": "markdown",
   "id": "937647fb",
   "metadata": {},
   "source": [
    "### In some languages every statement ends with a semi-colon, ;. What happens if you put a semi-colon at the end of a Python statement?"
   ]
  },
  {
   "cell_type": "code",
   "execution_count": 35,
   "id": "413e5e77",
   "metadata": {},
   "outputs": [
    {
     "name": "stdout",
     "output_type": "stream",
     "text": [
      "42\n",
      "1\n",
      "1\n"
     ]
    }
   ],
   "source": [
    "a = 42;\n",
    "b = c = 1;\n",
    "print(a);\n",
    "print(b);\n",
    "print(c);"
   ]
  },
  {
   "cell_type": "markdown",
   "id": "bd7634b8",
   "metadata": {},
   "source": [
    "### What if you put a period at the end of a statement?"
   ]
  },
  {
   "cell_type": "code",
   "execution_count": 36,
   "id": "39e7b2dc",
   "metadata": {},
   "outputs": [
    {
     "ename": "SyntaxError",
     "evalue": "invalid syntax (Temp/ipykernel_16828/2111756778.py, line 3)",
     "output_type": "error",
     "traceback": [
      "\u001b[1;36m  File \u001b[1;32m\"C:\\Users\\75745\\AppData\\Local\\Temp/ipykernel_16828/2111756778.py\"\u001b[1;36m, line \u001b[1;32m3\u001b[0m\n\u001b[1;33m    print(d).\u001b[0m\n\u001b[1;37m             ^\u001b[0m\n\u001b[1;31mSyntaxError\u001b[0m\u001b[1;31m:\u001b[0m invalid syntax\n"
     ]
    }
   ],
   "source": [
    "d = 42.\n",
    "e = f = 42.\n",
    "print(d).\n",
    "print(e).\n",
    "print(f)."
   ]
  },
  {
   "cell_type": "markdown",
   "id": "26e13cb8",
   "metadata": {},
   "source": [
    "### In math notation you can multiply x and y like this: x y. What happens if you try that in Python?"
   ]
  },
  {
   "cell_type": "code",
   "execution_count": 37,
   "id": "58769e9c",
   "metadata": {},
   "outputs": [
    {
     "name": "stdout",
     "output_type": "stream",
     "text": [
      "42\n",
      "1\n"
     ]
    },
    {
     "ename": "NameError",
     "evalue": "name 'ab' is not defined",
     "output_type": "error",
     "traceback": [
      "\u001b[1;31m---------------------------------------------------------------------------\u001b[0m",
      "\u001b[1;31mNameError\u001b[0m                                 Traceback (most recent call last)",
      "\u001b[1;32m~\\AppData\\Local\\Temp/ipykernel_16828/1562506488.py\u001b[0m in \u001b[0;36m<module>\u001b[1;34m\u001b[0m\n\u001b[0;32m      1\u001b[0m \u001b[0mprint\u001b[0m\u001b[1;33m(\u001b[0m\u001b[0ma\u001b[0m\u001b[1;33m)\u001b[0m\u001b[1;33m\u001b[0m\u001b[1;33m\u001b[0m\u001b[0m\n\u001b[0;32m      2\u001b[0m \u001b[0mprint\u001b[0m\u001b[1;33m(\u001b[0m\u001b[0mb\u001b[0m\u001b[1;33m)\u001b[0m\u001b[1;33m\u001b[0m\u001b[1;33m\u001b[0m\u001b[0m\n\u001b[1;32m----> 3\u001b[1;33m \u001b[0mab\u001b[0m\u001b[1;33m\u001b[0m\u001b[1;33m\u001b[0m\u001b[0m\n\u001b[0m\u001b[0;32m      4\u001b[0m \u001b[0mprint\u001b[0m\u001b[1;33m(\u001b[0m\u001b[0mab\u001b[0m\u001b[1;33m)\u001b[0m\u001b[1;33m\u001b[0m\u001b[1;33m\u001b[0m\u001b[0m\n",
      "\u001b[1;31mNameError\u001b[0m: name 'ab' is not defined"
     ]
    }
   ],
   "source": [
    "print(a)\n",
    "print(b)\n",
    "ab\n",
    "print(ab)"
   ]
  },
  {
   "cell_type": "code",
   "execution_count": 38,
   "id": "96545c9d",
   "metadata": {},
   "outputs": [
    {
     "name": "stdout",
     "output_type": "stream",
     "text": [
      "42\n"
     ]
    }
   ],
   "source": [
    "print(a * b)"
   ]
  },
  {
   "cell_type": "markdown",
   "id": "20d475a3",
   "metadata": {},
   "source": [
    "### The volume of a sphere with radius r is 4/3 π r3. What is the volume of a sphere with radius 5?"
   ]
  },
  {
   "cell_type": "code",
   "execution_count": 39,
   "id": "3cb40c68",
   "metadata": {},
   "outputs": [
    {
     "name": "stdout",
     "output_type": "stream",
     "text": [
      "3.141592653589793\n",
      "523.5987755982989\n"
     ]
    }
   ],
   "source": [
    "import math\n",
    "print(math.pi)\n",
    "radius_5 = 4/3 * math.pi * 5 ** 3\n",
    "print(radius_5)"
   ]
  },
  {
   "cell_type": "markdown",
   "id": "b7a234ca",
   "metadata": {},
   "source": [
    "### Suppose the cover price of a book is 24.95 dollar, but bookstores get a 40% discount. Shipping costs 3 dollar for the first copy and 75 cents for each additional copy. What is the total wholesale cost for 60 copies?"
   ]
  },
  {
   "cell_type": "code",
   "execution_count": 40,
   "id": "f229e1be",
   "metadata": {},
   "outputs": [
    {
     "name": "stdout",
     "output_type": "stream",
     "text": [
      "945.4499999999999\n"
     ]
    }
   ],
   "source": [
    "cost = 24.95 * 0.6 * 60 + 3 + (60-1) * 0.75\n",
    "print(cost)"
   ]
  },
  {
   "cell_type": "markdown",
   "id": "a2f840fb",
   "metadata": {},
   "source": [
    "### If I leave my house at 6:52 am and run 1 mile at an easy pace (8:15 per mile), then 3 miles at tempo (7:12 per mile) and 1 mile at easy pace again, what time do I get home for breakfast?"
   ]
  },
  {
   "cell_type": "code",
   "execution_count": 41,
   "id": "2df7fa6e",
   "metadata": {},
   "outputs": [
    {
     "name": "stdout",
     "output_type": "stream",
     "text": [
      "38.1\n"
     ]
    }
   ],
   "source": [
    "seconds = (8 * 60 + 15) * 1 + (7 * 60 + 12) * 3 + (8 * 60 + 15) * 1\n",
    "minutes = seconds / 60\n",
    "print(minutes)"
   ]
  },
  {
   "cell_type": "markdown",
   "id": "501679a8",
   "metadata": {},
   "source": [
    "## Lab 03-1-2: Strings Exercise"
   ]
  },
  {
   "cell_type": "markdown",
   "id": "eb53113d",
   "metadata": {},
   "source": [
    "### Read the documentation of the string methods at http://docs.python.org/3/library/stdtypes.html#string-methods. You might want to experiment with some of them to make sure you understand how they work. strip and replace are particularly useful."
   ]
  },
  {
   "cell_type": "code",
   "execution_count": 42,
   "id": "0fd1cf2a",
   "metadata": {},
   "outputs": [
    {
     "name": "stdout",
     "output_type": "stream",
     "text": [
      "Abc\n",
      "True\n"
     ]
    }
   ],
   "source": [
    "print(str.capitalize('abc'))\n",
    "print(str.isupper('ABC'))"
   ]
  },
  {
   "cell_type": "markdown",
   "id": "4125adf8",
   "metadata": {},
   "source": [
    "### There is a string method called count that is similar to the function in Section 8.7. Read the documentation of this method and write an invocation that counts the number of a’s in 'banana'."
   ]
  },
  {
   "cell_type": "code",
   "execution_count": 43,
   "id": "9b7f5f02",
   "metadata": {},
   "outputs": [
    {
     "name": "stdout",
     "output_type": "stream",
     "text": [
      "3\n"
     ]
    }
   ],
   "source": [
    "print(str.count('banana', 'a'))"
   ]
  },
  {
   "cell_type": "markdown",
   "id": "daeff52d",
   "metadata": {},
   "source": [
    "### A string slice can take a third index that specifies the “step size”; that is, the number of spaces between successive characters.  Use this idiom to write a one-line version of is_palindrome from Exercise 3."
   ]
  },
  {
   "cell_type": "code",
   "execution_count": 44,
   "id": "4418fc3a",
   "metadata": {},
   "outputs": [
    {
     "name": "stdout",
     "output_type": "stream",
     "text": [
      "rpsit\n",
      "ytilibisnopser\n"
     ]
    },
    {
     "data": {
      "text/plain": [
       "False"
      ]
     },
     "execution_count": 44,
     "metadata": {},
     "output_type": "execute_result"
    }
   ],
   "source": [
    "print('responsibility'[0:13:3])\n",
    "print('responsibility'[::-1])\n",
    "def is_palindrome(word):\n",
    "    return True if word == word[::-1] else False\n",
    "is_palindrome('abc')"
   ]
  },
  {
   "cell_type": "markdown",
   "id": "9f103cc8",
   "metadata": {},
   "source": [
    "### The following functions are all intended to check whether a string contains any lowercase letters, but at least some of them are wrong. For each function, describe what the function actually does (assuming that the parameter is a string)."
   ]
  },
  {
   "cell_type": "markdown",
   "id": "7546619b",
   "metadata": {},
   "source": [
    "(Return True if the first character is lowercase)"
   ]
  },
  {
   "cell_type": "code",
   "execution_count": 45,
   "id": "1eaec4f6",
   "metadata": {},
   "outputs": [
    {
     "data": {
      "text/plain": [
       "True"
      ]
     },
     "execution_count": 45,
     "metadata": {},
     "output_type": "execute_result"
    }
   ],
   "source": [
    "def any_lowercase1(s):\n",
    "    for c in s:\n",
    "        if c.islower():\n",
    "            return True\n",
    "        else:\n",
    "            return False\n",
    "any_lowercase1(\"aBc\")"
   ]
  },
  {
   "cell_type": "markdown",
   "id": "977c30fc",
   "metadata": {},
   "source": [
    "(Looks the same as the previous one)"
   ]
  },
  {
   "cell_type": "code",
   "execution_count": 46,
   "id": "8e5fa091",
   "metadata": {},
   "outputs": [
    {
     "data": {
      "text/plain": [
       "True"
      ]
     },
     "execution_count": 46,
     "metadata": {},
     "output_type": "execute_result"
    }
   ],
   "source": [
    "def any_lowercase2(s):\n",
    "    for c in s:\n",
    "        if 'c'.islower():\n",
    "            return 'True'\n",
    "        else:\n",
    "            return 'False'\n",
    "any_lowercase1(\"abcccc\")"
   ]
  },
  {
   "cell_type": "markdown",
   "id": "cc18230d",
   "metadata": {},
   "source": [
    "(Do not know what it meant)"
   ]
  },
  {
   "cell_type": "code",
   "execution_count": 47,
   "id": "7f63f840",
   "metadata": {},
   "outputs": [
    {
     "data": {
      "text/plain": [
       "True"
      ]
     },
     "execution_count": 47,
     "metadata": {},
     "output_type": "execute_result"
    }
   ],
   "source": [
    "def any_lowercase3(s):\n",
    "    for c in s:\n",
    "        flag = c.islower()\n",
    "    return flag\n",
    "any_lowercase1(\"abcccc\")"
   ]
  },
  {
   "cell_type": "markdown",
   "id": "0d5b9aa2",
   "metadata": {},
   "source": [
    "(Do not know what it meant)"
   ]
  },
  {
   "cell_type": "code",
   "execution_count": 48,
   "id": "c6d7a7dd",
   "metadata": {},
   "outputs": [
    {
     "data": {
      "text/plain": [
       "True"
      ]
     },
     "execution_count": 48,
     "metadata": {},
     "output_type": "execute_result"
    }
   ],
   "source": [
    "def any_lowercase4(s):\n",
    "    flag = False\n",
    "    for c in s:\n",
    "        flag = flag or c.islower()\n",
    "    return flag\n",
    "any_lowercase1(\"abcccc\")"
   ]
  },
  {
   "cell_type": "markdown",
   "id": "836fb129",
   "metadata": {},
   "source": [
    "(Return True if at least one character is lowercase)"
   ]
  },
  {
   "cell_type": "code",
   "execution_count": 49,
   "id": "d16fb685",
   "metadata": {},
   "outputs": [
    {
     "data": {
      "text/plain": [
       "False"
      ]
     },
     "execution_count": 49,
     "metadata": {},
     "output_type": "execute_result"
    }
   ],
   "source": [
    "def any_lowercase5(s):\n",
    "    for c in s:\n",
    "        if not c.islower():\n",
    "            return False\n",
    "    return True\n",
    "any_lowercase1(\"ABCC\")"
   ]
  },
  {
   "cell_type": "markdown",
   "id": "abea57e4",
   "metadata": {},
   "source": [
    "### Write a function called rotate_word that takes a string and an integer as parameters, and returns a new string that contains the letters from the original string rotated by the given amount."
   ]
  },
  {
   "cell_type": "code",
   "execution_count": 50,
   "id": "189a2eae",
   "metadata": {},
   "outputs": [
    {
     "name": "stdout",
     "output_type": "stream",
     "text": [
      "fghIH\n"
     ]
    }
   ],
   "source": [
    "def rotate_word(a, b):\n",
    "    d = ''\n",
    "    for c in a:\n",
    "        new_ord = ord(c) + b\n",
    "        d = d + chr(new_ord)\n",
    "    print(d)\n",
    "rotate_word('abcDC', 5)"
   ]
  },
  {
   "cell_type": "markdown",
   "id": "a996a34d",
   "metadata": {},
   "source": [
    "## Lab 03-2-1: Conditional Execution Exercise 1"
   ]
  },
  {
   "cell_type": "code",
   "execution_count": 1,
   "id": "46f955ae",
   "metadata": {},
   "outputs": [],
   "source": [
    "import random\n",
    "import math\n",
    "import matplotlib.pyplot as plt"
   ]
  },
  {
   "cell_type": "code",
   "execution_count": 2,
   "id": "ce287ea9",
   "metadata": {},
   "outputs": [],
   "source": [
    "pi = math.pi"
   ]
  },
  {
   "cell_type": "code",
   "execution_count": 3,
   "id": "3984c191",
   "metadata": {},
   "outputs": [
    {
     "name": "stdout",
     "output_type": "stream",
     "text": [
      "Input the convergence criterion: 0.001\n"
     ]
    }
   ],
   "source": [
    "criterion = float(input(\"Input the convergence criterion: \"))"
   ]
  },
  {
   "cell_type": "code",
   "execution_count": 4,
   "id": "147cc234",
   "metadata": {},
   "outputs": [
    {
     "name": "stdout",
     "output_type": "stream",
     "text": [
      "Input the limitation number: 10000\n"
     ]
    }
   ],
   "source": [
    "count = int(input(\"Input the limitation number: \"))"
   ]
  },
  {
   "cell_type": "code",
   "execution_count": 5,
   "id": "3425e423",
   "metadata": {},
   "outputs": [
    {
     "name": "stdout",
     "output_type": "stream",
     "text": [
      "0.0\n",
      "2.0\n",
      "2.6666666666666665\n",
      "3.0\n",
      "3.2\n",
      "3.3333333333333335\n",
      "3.4285714285714284\n",
      "3.5\n",
      "3.111111111111111\n",
      "3.2\n",
      "3.272727272727273\n",
      "3.3333333333333335\n",
      "3.3846153846153846\n",
      "3.142857142857143\n",
      "Draws needed:  14\n"
     ]
    }
   ],
   "source": [
    "n = 0\n",
    "d = 0\n",
    "ratios = []\n",
    "xs = []\n",
    "ys = []\n",
    "simulating = True\n",
    "while d < count:\n",
    "    x = random.random()\n",
    "    y = random.random()\n",
    "    xs.append(x)\n",
    "    ys.append(y)\n",
    "    if x**2 + y**2 <= 1.0:\n",
    "        n += 1\n",
    "    d += 1\n",
    "    ratio = 4 * n * 1./d\n",
    "    \n",
    "    print(ratio)\n",
    "    ratios.append(ratio)\n",
    "    if abs(ratio-pi) / pi <= criterion:\n",
    "        print(\"Draws needed: \", d)\n",
    "        break"
   ]
  },
  {
   "cell_type": "markdown",
   "id": "f349dc15",
   "metadata": {},
   "source": [
    "## Lab 03-2-2: Conditional Execution Exercise 2"
   ]
  },
  {
   "cell_type": "code",
   "execution_count": 6,
   "id": "baf5ec04",
   "metadata": {},
   "outputs": [],
   "source": [
    "import numpy as np"
   ]
  },
  {
   "cell_type": "code",
   "execution_count": 17,
   "id": "2e9a4c56",
   "metadata": {},
   "outputs": [
    {
     "name": "stdout",
     "output_type": "stream",
     "text": [
      "Draws needed:  29\n",
      "[4.0, 4.0, 2.6666666666666665, 3.0, 3.2, 3.3333333333333335, 3.4285714285714284, 3.5, 3.5555555555555554, 3.6]\n",
      "Average Number of the 10: 3.4284126984126986\n",
      "Standard Deviation of the 10: 0.39104517198223054\n"
     ]
    }
   ],
   "source": [
    "n = 0\n",
    "d = 0\n",
    "ratios = []\n",
    "xs = []\n",
    "ys = []\n",
    "simulating = True\n",
    "while simulating:\n",
    "    x = random.random()\n",
    "    y = random.random()\n",
    "    xs.append(x)\n",
    "    ys.append(y)\n",
    "    if x**2 + y**2 <= 1.0:\n",
    "        n += 1\n",
    "    d += 1\n",
    "    ratio = 4 * n * 1./d\n",
    "    \n",
    "    ratios.append(ratio)\n",
    "    if abs(ratio-pi) / pi <= 0.01:\n",
    "        print(\"Draws needed: \", d)\n",
    "        break\n",
    "        \n",
    "print(ratios[:10])\n",
    "print(\"Average Number of the 10: \"+ str(np.mean(ratios[:10])))\n",
    "print(\"Standard Deviation of the 10: \" + str(np.std(ratios[:10])))"
   ]
  },
  {
   "cell_type": "code",
   "execution_count": 18,
   "id": "0de62547",
   "metadata": {},
   "outputs": [
    {
     "name": "stdout",
     "output_type": "stream",
     "text": [
      "Draws needed:  14\n",
      "[4.0, 4.0, 4.0, 4.0, 4.0, 4.0, 3.4285714285714284, 3.5, 3.5555555555555554, 3.2]\n",
      "Average Number of the 10: 3.768412698412699\n",
      "Standard Deviation of the 10: 0.2962658761784001\n"
     ]
    }
   ],
   "source": [
    "n = 0\n",
    "d = 0\n",
    "ratios = []\n",
    "xs = []\n",
    "ys = []\n",
    "simulating = True\n",
    "while simulating:\n",
    "    x = random.random()\n",
    "    y = random.random()\n",
    "    xs.append(x)\n",
    "    ys.append(y)\n",
    "    if x**2 + y**2 <= 1.0:\n",
    "        n += 1\n",
    "    d += 1\n",
    "    ratio = 4 * n * 1./d\n",
    "    \n",
    "    ratios.append(ratio)\n",
    "    if abs(ratio-pi) / pi <= 0.001:\n",
    "        print(\"Draws needed: \", d)\n",
    "        break\n",
    "        \n",
    "print(ratios[:10])\n",
    "print(\"Average Number of the 10: \"+ str(np.mean(ratios[:10])))\n",
    "print(\"Standard Deviation of the 10: \" + str(np.std(ratios[:10])))"
   ]
  },
  {
   "cell_type": "code",
   "execution_count": 19,
   "id": "5e478e45",
   "metadata": {},
   "outputs": [
    {
     "name": "stdout",
     "output_type": "stream",
     "text": [
      "Draws needed:  578\n",
      "[4.0, 4.0, 4.0, 3.0, 2.4, 2.6666666666666665, 2.2857142857142856, 2.5, 2.2222222222222223, 2.0]\n",
      "Average Number of the 10: 2.907460317460317\n",
      "Standard Deviation of the 10: 0.758328262423553\n"
     ]
    }
   ],
   "source": [
    "n = 0\n",
    "d = 0\n",
    "ratios = []\n",
    "xs = []\n",
    "ys = []\n",
    "simulating = True\n",
    "while simulating:\n",
    "    x = random.random()\n",
    "    y = random.random()\n",
    "    xs.append(x)\n",
    "    ys.append(y)\n",
    "    if x**2 + y**2 <= 1.0:\n",
    "        n += 1\n",
    "    d += 1\n",
    "    ratio = 4 * n * 1./d\n",
    "    \n",
    "    ratios.append(ratio)\n",
    "    if abs(ratio-pi) / pi <= 0.0001:\n",
    "        print(\"Draws needed: \", d)\n",
    "        break\n",
    "        \n",
    "print(ratios[:10])\n",
    "print(\"Average Number of the 10: \"+ str(np.mean(ratios[:10])))\n",
    "print(\"Standard Deviation of the 10: \" + str(np.std(ratios[:10])))"
   ]
  },
  {
   "cell_type": "code",
   "execution_count": 20,
   "id": "a45ac90c",
   "metadata": {},
   "outputs": [
    {
     "name": "stdout",
     "output_type": "stream",
     "text": [
      "Draws needed:  17078\n",
      "[4.0, 4.0, 2.6666666666666665, 3.0, 3.2, 3.3333333333333335, 3.4285714285714284, 3.5, 3.5555555555555554, 3.6]\n",
      "Average Number of the 10: 3.4284126984126986\n",
      "Standard Deviation of the 10: 0.39104517198223054\n"
     ]
    }
   ],
   "source": [
    "n = 0\n",
    "d = 0\n",
    "ratios = []\n",
    "xs = []\n",
    "ys = []\n",
    "simulating = True\n",
    "while simulating:\n",
    "    x = random.random()\n",
    "    y = random.random()\n",
    "    xs.append(x)\n",
    "    ys.append(y)\n",
    "    if x**2 + y**2 <= 1.0:\n",
    "        n += 1\n",
    "    d += 1\n",
    "    ratio = 4 * n * 1./d\n",
    "    \n",
    "    ratios.append(ratio)\n",
    "    if abs(ratio-pi) / pi <= 0.00001:\n",
    "        print(\"Draws needed: \", d)\n",
    "        break\n",
    "        \n",
    "print(ratios[:10])\n",
    "print(\"Average Number of the 10: \"+ str(np.mean(ratios[:10])))\n",
    "print(\"Standard Deviation of the 10: \" + str(np.std(ratios[:10])))"
   ]
  }
 ],
 "metadata": {
  "kernelspec": {
   "display_name": "Python 3 (ipykernel)",
   "language": "python",
   "name": "python3"
  },
  "language_info": {
   "codemirror_mode": {
    "name": "ipython",
    "version": 3
   },
   "file_extension": ".py",
   "mimetype": "text/x-python",
   "name": "python",
   "nbconvert_exporter": "python",
   "pygments_lexer": "ipython3",
   "version": "3.9.7"
  }
 },
 "nbformat": 4,
 "nbformat_minor": 5
}
